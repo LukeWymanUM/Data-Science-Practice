{
 "cells": [
  {
   "cell_type": "code",
   "execution_count": 2,
   "metadata": {},
   "outputs": [],
   "source": [
    "import pandas as pd\n",
    "import matplotlib.pyplot as plt"
   ]
  },
  {
   "cell_type": "markdown",
   "metadata": {},
   "source": [
    "## Problem 11: climate-related deaths"
   ]
  },
  {
   "cell_type": "markdown",
   "metadata": {},
   "source": [
    "The Centre for Research on the Epidemiology of Disasters (CRED) within the University of Leuven maintains an [Emergency Events database](https://public.emdat.be/) covering over 20,000 mass disasters globally, starting from 1900."
   ]
  },
  {
   "cell_type": "code",
   "execution_count": 4,
   "metadata": {},
   "outputs": [
    {
     "data": {
      "text/plain": [
       "Year\n",
       "1900    1.647405e+09\n",
       "1901    1.658786e+09\n",
       "1902    1.672564e+09\n",
       "1903    1.687013e+09\n",
       "1904    1.701647e+09\n",
       "            ...     \n",
       "2018    7.631081e+09\n",
       "2019    7.713458e+09\n",
       "2020    7.794789e+09\n",
       "2021    7.874956e+09\n",
       "2022    7.953943e+09\n",
       "Name: world_population, Length: 123, dtype: float64"
      ]
     },
     "execution_count": 4,
     "metadata": {},
     "output_type": "execute_result"
    }
   ],
   "source": [
    "# load world population data as a Series (set `squeeze` parameter to True)\n",
    "path = 'https://raw.githubusercontent.com/um-perez-alvaro/Data-Science-Practice/master/Data/world_population.csv'\n",
    "pop = pd.read_csv(path,index_col='Year',squeeze=True)\n",
    "pop"
   ]
  },
  {
   "cell_type": "markdown",
   "metadata": {},
   "source": [
    "Compute the total number of deaths by year and distaster type. \n",
    "Assign the results to a new DataFrame named `deaths`"
   ]
  },
  {
   "cell_type": "code",
   "execution_count": null,
   "metadata": {},
   "outputs": [],
   "source": []
  },
  {
   "cell_type": "code",
   "execution_count": 26,
   "metadata": {},
   "outputs": [
    {
     "data": {
      "text/plain": [
       "Year\n",
       "1900    1.647405e+09\n",
       "1901    1.658786e+09\n",
       "1902    1.672564e+09\n",
       "1903    1.687013e+09\n",
       "1904    1.701647e+09\n",
       "            ...     \n",
       "2018    7.631081e+09\n",
       "2019    7.713458e+09\n",
       "2020    7.794789e+09\n",
       "2021    7.874956e+09\n",
       "2022    7.953943e+09\n",
       "Name: world_population, Length: 123, dtype: float64"
      ]
     },
     "execution_count": 26,
     "metadata": {},
     "output_type": "execute_result"
    }
   ],
   "source": [
    "# load world population data as a Series (set `squeeze` parameter to True)\n",
    "pop = pd.read_csv('world_population.csv',index_col='Year',squeeze=True)\n",
    "pop"
   ]
  },
  {
   "cell_type": "markdown",
   "metadata": {},
   "source": [
    "Plot the world population by year"
   ]
  },
  {
   "cell_type": "code",
   "execution_count": null,
   "metadata": {},
   "outputs": [],
   "source": []
  },
  {
   "cell_type": "markdown",
   "metadata": {},
   "source": [
    "Compute the number of deaths per 100,000 population by year and disaster type.\n",
    "Assign the results to a new DataFrame called `rel_deaths`.\n",
    "\n",
    "Hint: you want to divide each row of the `deaths` DataFrame by the corresponding population.\n",
    "To do this, you need to use the `.divide()` DataFrame method with the `axis` parameter set to 0."
   ]
  },
  {
   "cell_type": "code",
   "execution_count": null,
   "metadata": {},
   "outputs": [],
   "source": []
  },
  {
   "cell_type": "markdown",
   "metadata": {},
   "source": [
    "Calculate and plot the **decade** average annual number of deaths per 100,000 by disaster type. Use a bar plot.\n",
    "\n",
    "Hint: group by `10*(rel_deaths.index//10)`"
   ]
  },
  {
   "cell_type": "code",
   "execution_count": 2,
   "metadata": {},
   "outputs": [],
   "source": [
    "# decade average \n"
   ]
  },
  {
   "cell_type": "code",
   "execution_count": 1,
   "metadata": {},
   "outputs": [],
   "source": [
    "# plot results\n"
   ]
  }
 ],
 "metadata": {
  "kernelspec": {
   "display_name": "Python 3",
   "language": "python",
   "name": "python3"
  },
  "language_info": {
   "codemirror_mode": {
    "name": "ipython",
    "version": 3
   },
   "file_extension": ".py",
   "mimetype": "text/x-python",
   "name": "python",
   "nbconvert_exporter": "python",
   "pygments_lexer": "ipython3",
   "version": "3.8.5"
  }
 },
 "nbformat": 4,
 "nbformat_minor": 4
}
