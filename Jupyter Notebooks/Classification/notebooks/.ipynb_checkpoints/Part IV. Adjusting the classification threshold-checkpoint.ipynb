{
 "cells": [
  {
   "cell_type": "code",
   "execution_count": 2,
   "metadata": {},
   "outputs": [],
   "source": [
    "import pandas as pd\n",
    "import numpy as np\n",
    "import matplotlib.pyplot as plt"
   ]
  },
  {
   "cell_type": "markdown",
   "metadata": {},
   "source": [
    "# Adjusting the classification threshold"
   ]
  },
  {
   "cell_type": "markdown",
   "metadata": {},
   "source": [
    "- [Precision/Recall Trade-off](#Precision/Recall-Trade-off)\n",
    "- [Making predictions with the new threshold](#Making-predictions-with-the-new-threshold)"
   ]
  },
  {
   "cell_type": "code",
   "execution_count": 3,
   "metadata": {},
   "outputs": [
    {
     "data": {
      "text/html": [
       "<div>\n",
       "<style scoped>\n",
       "    .dataframe tbody tr th:only-of-type {\n",
       "        vertical-align: middle;\n",
       "    }\n",
       "\n",
       "    .dataframe tbody tr th {\n",
       "        vertical-align: top;\n",
       "    }\n",
       "\n",
       "    .dataframe thead th {\n",
       "        text-align: right;\n",
       "    }\n",
       "</style>\n",
       "<table border=\"1\" class=\"dataframe\">\n",
       "  <thead>\n",
       "    <tr style=\"text-align: right;\">\n",
       "      <th></th>\n",
       "      <th>pregnant</th>\n",
       "      <th>glucose</th>\n",
       "      <th>bp</th>\n",
       "      <th>skin</th>\n",
       "      <th>insulin</th>\n",
       "      <th>bmi</th>\n",
       "      <th>pedigree</th>\n",
       "      <th>age</th>\n",
       "      <th>label</th>\n",
       "    </tr>\n",
       "  </thead>\n",
       "  <tbody>\n",
       "    <tr>\n",
       "      <th>0</th>\n",
       "      <td>6</td>\n",
       "      <td>148</td>\n",
       "      <td>72</td>\n",
       "      <td>35</td>\n",
       "      <td>0</td>\n",
       "      <td>33.6</td>\n",
       "      <td>0.627</td>\n",
       "      <td>50</td>\n",
       "      <td>1</td>\n",
       "    </tr>\n",
       "    <tr>\n",
       "      <th>1</th>\n",
       "      <td>1</td>\n",
       "      <td>85</td>\n",
       "      <td>66</td>\n",
       "      <td>29</td>\n",
       "      <td>0</td>\n",
       "      <td>26.6</td>\n",
       "      <td>0.351</td>\n",
       "      <td>31</td>\n",
       "      <td>0</td>\n",
       "    </tr>\n",
       "    <tr>\n",
       "      <th>2</th>\n",
       "      <td>8</td>\n",
       "      <td>183</td>\n",
       "      <td>64</td>\n",
       "      <td>0</td>\n",
       "      <td>0</td>\n",
       "      <td>23.3</td>\n",
       "      <td>0.672</td>\n",
       "      <td>32</td>\n",
       "      <td>1</td>\n",
       "    </tr>\n",
       "    <tr>\n",
       "      <th>3</th>\n",
       "      <td>1</td>\n",
       "      <td>89</td>\n",
       "      <td>66</td>\n",
       "      <td>23</td>\n",
       "      <td>94</td>\n",
       "      <td>28.1</td>\n",
       "      <td>0.167</td>\n",
       "      <td>21</td>\n",
       "      <td>0</td>\n",
       "    </tr>\n",
       "    <tr>\n",
       "      <th>4</th>\n",
       "      <td>0</td>\n",
       "      <td>137</td>\n",
       "      <td>40</td>\n",
       "      <td>35</td>\n",
       "      <td>168</td>\n",
       "      <td>43.1</td>\n",
       "      <td>2.288</td>\n",
       "      <td>33</td>\n",
       "      <td>1</td>\n",
       "    </tr>\n",
       "  </tbody>\n",
       "</table>\n",
       "</div>"
      ],
      "text/plain": [
       "   pregnant  glucose  bp  skin  insulin   bmi  pedigree  age  label\n",
       "0         6      148  72    35        0  33.6     0.627   50      1\n",
       "1         1       85  66    29        0  26.6     0.351   31      0\n",
       "2         8      183  64     0        0  23.3     0.672   32      1\n",
       "3         1       89  66    23       94  28.1     0.167   21      0\n",
       "4         0      137  40    35      168  43.1     2.288   33      1"
      ]
     },
     "execution_count": 3,
     "metadata": {},
     "output_type": "execute_result"
    }
   ],
   "source": [
    "# load the pima indian dataset\n",
    "url = 'https://raw.githubusercontent.com/um-perez-alvaro/Data-Science-Practice/master/Data/pima.csv'\n",
    "pima = pd.read_csv(url)\n",
    "pima.head()"
   ]
  },
  {
   "cell_type": "code",
   "execution_count": 18,
   "metadata": {},
   "outputs": [
    {
     "data": {
      "text/plain": [
       "(768, 9)"
      ]
     },
     "execution_count": 18,
     "metadata": {},
     "output_type": "execute_result"
    }
   ],
   "source": [
    "pima.shape"
   ]
  },
  {
   "cell_type": "code",
   "execution_count": 5,
   "metadata": {},
   "outputs": [
    {
     "data": {
      "text/plain": [
       "KNeighborsClassifier(n_neighbors=17)"
      ]
     },
     "execution_count": 5,
     "metadata": {},
     "output_type": "execute_result"
    }
   ],
   "source": [
    "# import knn\n",
    "from sklearn.neighbors import KNeighborsClassifier\n",
    "# define X and y\n",
    "feature_cols = ['pregnant','glucose','bp','skin','insulin','bmi','age']\n",
    "X = pima[feature_cols]\n",
    "y = pima.label\n",
    "# instantiate the knn classifier\n",
    "knn_clf = KNeighborsClassifier(n_neighbors=17, weights='uniform')\n",
    "# train the model\n",
    "knn_clf.fit(X,y)"
   ]
  },
  {
   "cell_type": "markdown",
   "metadata": {},
   "source": [
    "Let's look at how the knn classifier makes its prediction. \n",
    "For each patient, knn computes the probability of that patient having diabetes"
   ]
  },
  {
   "cell_type": "code",
   "execution_count": 6,
   "metadata": {},
   "outputs": [
    {
     "data": {
      "text/plain": [
       "array([[0.47058824, 0.52941176],\n",
       "       [0.94117647, 0.05882353],\n",
       "       [0.17647059, 0.82352941],\n",
       "       ...,\n",
       "       [0.76470588, 0.23529412],\n",
       "       [0.35294118, 0.64705882],\n",
       "       [1.        , 0.        ]])"
      ]
     },
     "execution_count": 6,
     "metadata": {},
     "output_type": "execute_result"
    }
   ],
   "source": [
    "# first column is the probability of label=0, second column is the probability of label=1\n",
    "knn_clf.predict_proba(X)"
   ]
  },
  {
   "cell_type": "code",
   "execution_count": 7,
   "metadata": {},
   "outputs": [
    {
     "data": {
      "text/plain": [
       "array([0.52941176, 0.05882353, 0.82352941, 0.05882353, 0.52941176,\n",
       "       0.35294118, 0.05882353, 0.41176471, 0.64705882, 0.23529412,\n",
       "       0.29411765, 0.88235294, 0.52941176, 0.70588235, 0.76470588,\n",
       "       0.17647059, 0.41176471, 0.41176471, 0.17647059, 0.17647059,\n",
       "       0.47058824, 0.29411765, 0.76470588, 0.35294118, 0.76470588,\n",
       "       0.35294118, 0.64705882, 0.11764706, 0.58823529, 0.41176471,\n",
       "       0.58823529, 0.64705882, 0.05882353, 0.05882353, 0.58823529,\n",
       "       0.23529412, 0.41176471, 0.52941176, 0.11764706, 0.47058824,\n",
       "       0.52941176, 0.41176471, 0.35294118, 0.76470588, 0.64705882,\n",
       "       0.94117647, 0.35294118, 0.05882353, 0.23529412, 0.23529412,\n",
       "       0.05882353, 0.05882353, 0.05882353, 0.70588235, 0.52941176,\n",
       "       0.        , 0.70588235, 0.29411765, 0.47058824, 0.17647059,\n",
       "       0.11764706, 0.47058824, 0.        , 0.29411765, 0.58823529,\n",
       "       0.17647059, 0.47058824, 0.29411765, 0.05882353, 0.41176471,\n",
       "       0.05882353, 0.35294118, 0.47058824, 0.23529412, 0.11764706,\n",
       "       0.11764706, 0.        , 0.11764706, 0.64705882, 0.17647059,\n",
       "       0.17647059, 0.11764706, 0.05882353, 0.05882353, 0.47058824,\n",
       "       0.17647059, 0.47058824, 0.11764706, 0.52941176, 0.05882353,\n",
       "       0.        , 0.29411765, 0.05882353, 0.41176471, 0.23529412,\n",
       "       0.47058824, 0.        , 0.05882353, 0.05882353, 0.35294118,\n",
       "       0.82352941, 0.47058824, 0.29411765, 0.        , 0.05882353,\n",
       "       0.29411765, 0.11764706, 0.47058824, 0.05882353, 0.05882353,\n",
       "       0.58823529, 0.64705882, 0.05882353, 0.        , 0.64705882,\n",
       "       0.58823529, 0.58823529, 0.05882353, 0.05882353, 0.05882353,\n",
       "       0.70588235, 0.23529412, 0.23529412, 0.35294118, 0.29411765,\n",
       "       0.17647059, 0.23529412, 0.17647059, 0.41176471, 0.11764706,\n",
       "       0.88235294, 0.47058824, 0.64705882, 0.23529412, 0.05882353,\n",
       "       0.29411765, 0.11764706, 0.05882353, 0.41176471, 0.29411765,\n",
       "       0.35294118, 0.58823529, 0.17647059, 0.52941176, 0.47058824,\n",
       "       0.        , 0.11764706, 0.11764706, 0.47058824, 0.05882353,\n",
       "       0.47058824, 0.41176471, 0.70588235, 0.58823529, 0.88235294,\n",
       "       0.58823529, 0.05882353, 0.05882353, 0.        , 0.70588235,\n",
       "       0.52941176, 0.23529412, 0.23529412, 0.05882353, 0.29411765,\n",
       "       0.47058824, 0.47058824, 0.41176471, 0.23529412, 0.05882353,\n",
       "       0.29411765, 0.41176471, 0.11764706, 0.        , 0.        ,\n",
       "       0.70588235, 0.17647059, 0.47058824, 0.52941176, 0.47058824,\n",
       "       0.11764706, 0.11764706, 0.11764706, 0.        , 0.47058824,\n",
       "       0.94117647, 0.64705882, 0.17647059, 0.29411765, 0.47058824,\n",
       "       0.05882353, 0.29411765, 0.64705882, 0.70588235, 0.11764706,\n",
       "       0.58823529, 0.        , 0.05882353, 0.17647059, 0.47058824,\n",
       "       0.11764706, 0.41176471, 0.17647059, 0.05882353, 0.47058824,\n",
       "       0.17647059, 0.70588235, 0.70588235, 0.11764706, 0.88235294,\n",
       "       0.05882353, 0.41176471, 0.70588235, 0.29411765, 0.47058824,\n",
       "       0.41176471, 0.11764706, 0.35294118, 0.05882353, 0.64705882,\n",
       "       0.58823529, 0.58823529, 0.47058824, 0.64705882, 0.05882353,\n",
       "       0.05882353, 0.35294118, 0.70588235, 0.70588235, 0.23529412,\n",
       "       0.47058824, 0.41176471, 0.05882353, 0.41176471, 0.        ,\n",
       "       0.88235294, 0.88235294, 0.94117647, 0.82352941, 0.23529412,\n",
       "       0.        , 0.11764706, 0.41176471, 0.35294118, 0.52941176,\n",
       "       0.76470588, 0.70588235, 0.70588235, 0.41176471, 0.23529412,\n",
       "       0.52941176, 0.35294118, 0.        , 0.11764706, 0.29411765,\n",
       "       0.11764706, 0.29411765, 0.17647059, 0.47058824, 0.70588235,\n",
       "       0.82352941, 0.70588235, 0.11764706, 0.41176471, 0.52941176,\n",
       "       0.        , 0.70588235, 0.41176471, 0.05882353, 0.70588235,\n",
       "       0.41176471, 0.17647059, 0.41176471, 0.        , 0.41176471,\n",
       "       0.11764706, 0.05882353, 0.        , 0.41176471, 0.29411765,\n",
       "       0.47058824, 0.47058824, 0.64705882, 0.82352941, 0.35294118,\n",
       "       0.64705882, 0.64705882, 0.35294118, 0.05882353, 0.17647059,\n",
       "       0.05882353, 0.17647059, 0.35294118, 0.47058824, 0.52941176,\n",
       "       0.58823529, 0.47058824, 0.29411765, 0.41176471, 0.41176471,\n",
       "       0.76470588, 0.29411765, 0.05882353, 0.47058824, 0.52941176,\n",
       "       0.23529412, 0.70588235, 0.35294118, 0.35294118, 0.17647059,\n",
       "       0.11764706, 0.23529412, 0.47058824, 0.11764706, 0.58823529,\n",
       "       0.11764706, 0.        , 0.88235294, 0.11764706, 0.70588235,\n",
       "       0.35294118, 0.23529412, 0.35294118, 0.52941176, 0.29411765,\n",
       "       0.58823529, 0.23529412, 0.88235294, 0.17647059, 0.11764706,\n",
       "       0.52941176, 0.        , 0.76470588, 0.47058824, 0.05882353,\n",
       "       0.64705882, 0.52941176, 0.58823529, 0.64705882, 0.82352941,\n",
       "       0.05882353, 0.        , 0.11764706, 0.35294118, 0.29411765,\n",
       "       0.52941176, 0.11764706, 0.47058824, 0.05882353, 0.11764706,\n",
       "       0.23529412, 0.35294118, 0.11764706, 0.        , 0.11764706,\n",
       "       0.76470588, 0.41176471, 0.70588235, 0.05882353, 0.82352941,\n",
       "       0.64705882, 0.47058824, 0.52941176, 0.47058824, 0.47058824,\n",
       "       0.11764706, 0.35294118, 0.        , 0.05882353, 0.58823529,\n",
       "       0.58823529, 0.        , 0.        , 0.11764706, 0.29411765,\n",
       "       0.52941176, 0.05882353, 0.17647059, 0.76470588, 0.11764706,\n",
       "       0.23529412, 0.05882353, 0.23529412, 0.        , 0.17647059,\n",
       "       0.05882353, 0.35294118, 0.52941176, 0.41176471, 0.11764706,\n",
       "       0.41176471, 0.82352941, 0.47058824, 0.17647059, 0.76470588,\n",
       "       0.35294118, 0.11764706, 0.29411765, 0.05882353, 0.94117647,\n",
       "       0.17647059, 0.47058824, 0.35294118, 0.11764706, 0.88235294,\n",
       "       0.41176471, 0.47058824, 0.05882353, 0.76470588, 0.64705882,\n",
       "       0.35294118, 0.41176471, 0.35294118, 0.23529412, 0.52941176,\n",
       "       0.58823529, 0.        , 0.52941176, 0.05882353, 0.23529412,\n",
       "       0.47058824, 0.05882353, 0.17647059, 0.23529412, 0.47058824,\n",
       "       0.70588235, 0.11764706, 0.76470588, 0.47058824, 0.41176471,\n",
       "       0.17647059, 0.11764706, 0.        , 0.29411765, 0.11764706,\n",
       "       0.70588235, 0.47058824, 0.41176471, 0.        , 0.17647059,\n",
       "       0.82352941, 0.        , 0.17647059, 0.41176471, 0.23529412,\n",
       "       0.82352941, 0.        , 0.11764706, 0.11764706, 0.17647059,\n",
       "       0.05882353, 0.29411765, 0.35294118, 0.41176471, 0.11764706,\n",
       "       0.94117647, 0.41176471, 0.05882353, 0.70588235, 0.23529412,\n",
       "       0.11764706, 0.        , 0.        , 0.11764706, 0.17647059,\n",
       "       0.05882353, 0.        , 0.17647059, 0.52941176, 0.64705882,\n",
       "       0.41176471, 0.29411765, 0.23529412, 0.47058824, 0.11764706,\n",
       "       0.35294118, 0.35294118, 0.05882353, 0.29411765, 0.41176471,\n",
       "       0.52941176, 0.29411765, 0.        , 0.11764706, 0.70588235,\n",
       "       0.41176471, 0.58823529, 0.70588235, 0.        , 0.64705882,\n",
       "       0.05882353, 0.41176471, 0.17647059, 0.41176471, 0.11764706,\n",
       "       0.58823529, 0.17647059, 0.05882353, 0.82352941, 0.58823529,\n",
       "       0.05882353, 0.11764706, 0.11764706, 0.17647059, 0.29411765,\n",
       "       0.        , 0.52941176, 0.41176471, 0.05882353, 0.35294118,\n",
       "       0.29411765, 0.23529412, 0.11764706, 0.05882353, 0.05882353,\n",
       "       0.70588235, 0.76470588, 0.52941176, 0.05882353, 0.47058824,\n",
       "       0.05882353, 0.23529412, 0.29411765, 0.64705882, 0.47058824,\n",
       "       0.        , 0.05882353, 0.05882353, 0.35294118, 0.17647059,\n",
       "       0.05882353, 0.29411765, 0.11764706, 0.17647059, 0.        ,\n",
       "       0.64705882, 0.29411765, 0.        , 0.29411765, 0.58823529,\n",
       "       0.41176471, 0.23529412, 0.47058824, 0.11764706, 0.11764706,\n",
       "       0.82352941, 0.82352941, 0.41176471, 0.41176471, 0.70588235,\n",
       "       0.11764706, 0.05882353, 0.17647059, 0.        , 0.        ,\n",
       "       0.29411765, 0.11764706, 0.35294118, 0.47058824, 0.05882353,\n",
       "       0.47058824, 0.70588235, 0.17647059, 0.05882353, 0.17647059,\n",
       "       0.05882353, 0.11764706, 0.11764706, 0.58823529, 0.41176471,\n",
       "       0.05882353, 0.29411765, 0.11764706, 0.        , 0.47058824,\n",
       "       0.11764706, 0.05882353, 0.29411765, 0.47058824, 0.88235294,\n",
       "       0.47058824, 0.05882353, 0.17647059, 0.47058824, 0.64705882,\n",
       "       0.        , 0.47058824, 0.23529412, 0.88235294, 0.05882353,\n",
       "       0.52941176, 0.29411765, 0.47058824, 0.05882353, 0.47058824,\n",
       "       0.82352941, 0.        , 0.        , 0.88235294, 0.        ,\n",
       "       0.11764706, 0.17647059, 0.35294118, 0.64705882, 0.82352941,\n",
       "       0.17647059, 0.64705882, 0.        , 0.41176471, 0.23529412,\n",
       "       0.29411765, 0.76470588, 0.64705882, 0.29411765, 0.64705882,\n",
       "       0.17647059, 0.23529412, 0.        , 0.52941176, 0.52941176,\n",
       "       0.41176471, 0.05882353, 0.82352941, 0.05882353, 0.23529412,\n",
       "       0.11764706, 0.23529412, 0.41176471, 0.52941176, 0.        ,\n",
       "       0.47058824, 0.17647059, 0.11764706, 0.29411765, 0.11764706,\n",
       "       0.47058824, 0.47058824, 0.        , 0.17647059, 0.05882353,\n",
       "       0.17647059, 0.35294118, 0.52941176, 0.17647059, 0.29411765,\n",
       "       0.58823529, 0.64705882, 0.70588235, 0.64705882, 0.05882353,\n",
       "       0.11764706, 0.11764706, 0.29411765, 0.29411765, 0.05882353,\n",
       "       0.64705882, 0.11764706, 0.47058824, 0.35294118, 0.05882353,\n",
       "       0.64705882, 0.94117647, 0.70588235, 0.52941176, 0.47058824,\n",
       "       0.17647059, 0.47058824, 0.58823529, 0.41176471, 0.58823529,\n",
       "       0.76470588, 0.        , 0.11764706, 0.47058824, 0.11764706,\n",
       "       0.82352941, 0.52941176, 0.05882353, 0.29411765, 0.23529412,\n",
       "       0.        , 0.64705882, 0.11764706, 0.52941176, 0.29411765,\n",
       "       0.35294118, 0.29411765, 0.11764706, 0.35294118, 0.58823529,\n",
       "       0.29411765, 0.70588235, 0.11764706, 0.52941176, 0.05882353,\n",
       "       0.58823529, 0.76470588, 0.17647059, 0.47058824, 0.47058824,\n",
       "       0.29411765, 0.41176471, 0.82352941, 0.70588235, 0.11764706,\n",
       "       0.11764706, 0.23529412, 0.29411765, 0.82352941, 0.23529412,\n",
       "       0.47058824, 0.58823529, 0.41176471, 0.23529412, 0.35294118,\n",
       "       0.52941176, 0.76470588, 0.23529412, 0.41176471, 0.47058824,\n",
       "       0.05882353, 0.23529412, 0.58823529, 0.23529412, 0.23529412,\n",
       "       0.52941176, 0.35294118, 0.41176471, 0.82352941, 0.05882353,\n",
       "       0.17647059, 0.35294118, 0.58823529, 0.29411765, 0.29411765,\n",
       "       0.17647059, 0.23529412, 0.11764706, 0.23529412, 0.58823529,\n",
       "       0.64705882, 0.05882353, 0.05882353, 0.47058824, 0.70588235,\n",
       "       0.23529412, 0.52941176, 0.05882353, 0.82352941, 0.64705882,\n",
       "       0.29411765, 0.29411765, 0.05882353, 0.64705882, 0.52941176,\n",
       "       0.41176471, 0.47058824, 0.70588235, 0.29411765, 0.70588235,\n",
       "       0.        , 0.88235294, 0.05882353, 0.47058824, 0.35294118,\n",
       "       0.23529412, 0.64705882, 0.        ])"
      ]
     },
     "execution_count": 7,
     "metadata": {},
     "output_type": "execute_result"
    }
   ],
   "source": [
    "# probability of label = 1 (diabetes)\n",
    "knn_clf.predict_proba(X)[:,1]"
   ]
  },
  {
   "cell_type": "markdown",
   "metadata": {},
   "source": [
    "If the probability is larger than 0.5, knn predicts label = 1, otherwise it predicts label = 0"
   ]
  },
  {
   "cell_type": "markdown",
   "metadata": {},
   "source": [
    "## Precision/Recall Trade-off"
   ]
  },
  {
   "cell_type": "code",
   "execution_count": 17,
   "metadata": {},
   "outputs": [],
   "source": [
    "from sklearn.metrics import precision_recall_curve\n",
    "from sklearn.metrics import plot_precision_recall_curve"
   ]
  },
  {
   "cell_type": "markdown",
   "metadata": {},
   "source": [
    "The precision-recall curve shows the tradeoff between precision and recall for different threshold. A high area under the curve represents both high recall and high precision, where high precision relates to a low false positive rate, and high recall relates to a low false negative rate. High scores for both show that the classifier is returning accurate results (high precision), as well as returning a majority of all positive results (high recall)."
   ]
  },
  {
   "cell_type": "code",
   "execution_count": 19,
   "metadata": {},
   "outputs": [],
   "source": [
    "# train/test split\n",
    "from sklearn.model_selection import train_test_split\n",
    "X_train,X_test,y_train,y_test = train_test_split(X,y)"
   ]
  },
  {
   "cell_type": "code",
   "execution_count": 24,
   "metadata": {},
   "outputs": [],
   "source": [
    "# train the classifier\n",
    "knn_clf.fit(X_train,y_train)\n",
    "# probability of label 1\n",
    "y_prob = knn_clf.predict_proba(X_test)[:,1]"
   ]
  },
  {
   "cell_type": "code",
   "execution_count": 25,
   "metadata": {},
   "outputs": [
    {
     "data": {
      "text/plain": [
       "array([0.        , 0.52941176, 0.        , 0.23529412, 0.58823529,\n",
       "       0.47058824, 0.11764706, 0.47058824, 0.23529412, 0.82352941,\n",
       "       0.47058824, 0.17647059, 0.52941176, 0.70588235, 0.29411765,\n",
       "       0.        , 0.05882353, 0.41176471, 0.64705882, 0.23529412,\n",
       "       0.58823529, 0.05882353, 0.41176471, 0.        , 0.11764706,\n",
       "       0.41176471, 0.05882353, 0.52941176, 0.70588235, 0.52941176,\n",
       "       0.64705882, 0.        , 0.70588235, 0.17647059, 0.47058824,\n",
       "       0.64705882, 0.94117647, 0.11764706, 0.17647059, 0.58823529,\n",
       "       0.        , 0.52941176, 0.35294118, 0.47058824, 0.64705882,\n",
       "       0.17647059, 0.        , 0.52941176, 0.05882353, 0.17647059,\n",
       "       0.11764706, 0.52941176, 0.35294118, 0.        , 0.29411765,\n",
       "       0.47058824, 0.70588235, 0.23529412, 0.58823529, 0.23529412,\n",
       "       0.35294118, 0.17647059, 0.29411765, 0.17647059, 0.23529412,\n",
       "       0.23529412, 0.29411765, 0.52941176, 0.47058824, 0.05882353,\n",
       "       0.47058824, 0.29411765, 0.        , 0.17647059, 0.82352941,\n",
       "       0.17647059, 0.58823529, 0.35294118, 0.35294118, 0.47058824,\n",
       "       0.41176471, 0.52941176, 0.76470588, 0.41176471, 0.17647059,\n",
       "       0.52941176, 0.64705882, 0.52941176, 0.70588235, 0.35294118,\n",
       "       0.23529412, 0.58823529, 0.52941176, 0.        , 0.23529412,\n",
       "       0.58823529, 0.29411765, 0.29411765, 0.23529412, 0.70588235,\n",
       "       0.11764706, 0.11764706, 0.11764706, 0.05882353, 0.23529412,\n",
       "       0.52941176, 0.23529412, 0.70588235, 0.29411765, 0.11764706,\n",
       "       0.35294118, 0.41176471, 0.05882353, 0.17647059, 0.17647059,\n",
       "       0.17647059, 0.35294118, 0.35294118, 0.        , 0.64705882,\n",
       "       0.05882353, 0.35294118, 0.35294118, 0.        , 0.35294118,\n",
       "       0.29411765, 0.82352941, 0.70588235, 0.41176471, 0.52941176,\n",
       "       0.23529412, 0.47058824, 0.52941176, 0.23529412, 0.11764706,\n",
       "       0.17647059, 0.35294118, 0.11764706, 0.05882353, 0.58823529,\n",
       "       0.17647059, 0.64705882, 0.58823529, 0.05882353, 0.58823529,\n",
       "       0.64705882, 0.11764706, 0.17647059, 0.23529412, 0.23529412,\n",
       "       0.        , 0.47058824, 0.52941176, 0.17647059, 0.35294118,\n",
       "       0.64705882, 0.29411765, 0.11764706, 0.05882353, 0.47058824,\n",
       "       0.64705882, 0.76470588, 0.11764706, 0.64705882, 0.23529412,\n",
       "       0.        , 0.52941176, 0.58823529, 0.        , 0.29411765,\n",
       "       0.05882353, 0.11764706, 0.29411765, 0.29411765, 0.29411765,\n",
       "       0.47058824, 0.05882353, 0.52941176, 0.35294118, 0.41176471,\n",
       "       0.41176471, 0.76470588, 0.52941176, 0.29411765, 0.47058824,\n",
       "       0.        , 0.        , 0.23529412, 0.35294118, 0.        ,\n",
       "       0.35294118, 0.76470588])"
      ]
     },
     "execution_count": 25,
     "metadata": {},
     "output_type": "execute_result"
    }
   ],
   "source": [
    "y_prob"
   ]
  },
  {
   "cell_type": "code",
   "execution_count": 26,
   "metadata": {},
   "outputs": [
    {
     "data": {
      "text/plain": [
       "<sklearn.metrics._plot.precision_recall_curve.PrecisionRecallDisplay at 0x243c6ef4490>"
      ]
     },
     "execution_count": 26,
     "metadata": {},
     "output_type": "execute_result"
    },
    {
     "data": {
      "image/png": "[encoded data removed]",
      "text/plain": [
       "<Figure size 432x288 with 1 Axes>"
      ]
     },
     "metadata": {
      "needs_background": "light"
     },
     "output_type": "display_data"
    }
   ],
   "source": [
    "plot_precision_recall_curve(knn_clf, X_test, y_test)"
   ]
  },
  {
   "cell_type": "code",
   "execution_count": 31,
   "metadata": {},
   "outputs": [],
   "source": [
    "precisions, recalls, thresholds = precision_recall_curve(y_test, y_prob)"
   ]
  },
  {
   "cell_type": "code",
   "execution_count": 36,
   "metadata": {},
   "outputs": [],
   "source": [
    "# add last threshold = 1\n",
    "thresholds = np.append(thresholds,1)"
   ]
  },
  {
   "cell_type": "code",
   "execution_count": 38,
   "metadata": {},
   "outputs": [
    {
     "data": {
      "text/plain": [
       "Text(0.5, 1.0, 'Precision and Recall Curves')"
      ]
     },
     "execution_count": 38,
     "metadata": {},
     "output_type": "execute_result"
    },
    {
     "data": {
      "image/png": "[encoded data removed]",
      "text/plain": [
       "<Figure size 864x360 with 1 Axes>"
      ]
     },
     "metadata": {
      "needs_background": "light"
     },
     "output_type": "display_data"
    }
   ],
   "source": [
    "fig, ax = plt.subplots(figsize=(12,5))\n",
    "ax.plot(thresholds,precisions,'b--',label='Precision')\n",
    "ax.plot(thresholds,recalls,'g-', label='Recall')\n",
    "ax.legend(loc=\"best\", fontsize=16) \n",
    "ax.set_xlabel(\"threshold\", fontsize=16)        \n",
    "ax.grid(True)                             \n",
    "ax.set_xlim([0,1])\n",
    "ax.set_title('Precision and Recall Curves',fontsize=20)"
   ]
  },
  {
   "cell_type": "markdown",
   "metadata": {},
   "source": [
    "## Making predictions with the new threshold"
   ]
  },
  {
   "cell_type": "markdown",
   "metadata": {},
   "source": [
    "Scikit-learn does not let you set the threshold directly"
   ]
  },
  {
   "cell_type": "code",
   "execution_count": 41,
   "metadata": {},
   "outputs": [],
   "source": [
    " threshold = 0.2"
   ]
  },
  {
   "cell_type": "code",
   "execution_count": 43,
   "metadata": {},
   "outputs": [],
   "source": [
    "y_test_pred = np.zeros(y_test.shape) \n",
    "y_test_pred[y_prob > threshold]=1"
   ]
  },
  {
   "cell_type": "code",
   "execution_count": 44,
   "metadata": {},
   "outputs": [],
   "source": [
    "from sklearn.metrics import confusion_matrix, recall_score, precision_score"
   ]
  },
  {
   "cell_type": "code",
   "execution_count": 45,
   "metadata": {},
   "outputs": [
    {
     "data": {
      "text/plain": [
       "0.875"
      ]
     },
     "execution_count": 45,
     "metadata": {},
     "output_type": "execute_result"
    }
   ],
   "source": [
    "recall_score(y_test,y_test_pred)"
   ]
  },
  {
   "cell_type": "code",
   "execution_count": 46,
   "metadata": {},
   "outputs": [
    {
     "data": {
      "text/plain": [
       "0.4307692307692308"
      ]
     },
     "execution_count": 46,
     "metadata": {},
     "output_type": "execute_result"
    }
   ],
   "source": [
    "precision_score(y_test,y_test_pred)"
   ]
  },
  {
   "cell_type": "code",
   "execution_count": 48,
   "metadata": {},
   "outputs": [
    {
     "data": {
      "text/plain": [
       "array([[54, 74],\n",
       "       [ 8, 56]], dtype=int64)"
      ]
     },
     "execution_count": 48,
     "metadata": {},
     "output_type": "execute_result"
    }
   ],
   "source": [
    "confusion_matrix(y_test,y_test_pred)"
   ]
  }
 ],
 "metadata": {
  "kernelspec": {
   "display_name": "Python 3",
   "language": "python",
   "name": "python3"
  },
  "language_info": {
   "codemirror_mode": {
    "name": "ipython",
    "version": 3
   },
   "file_extension": ".py",
   "mimetype": "text/x-python",
   "name": "python",
   "nbconvert_exporter": "python",
   "pygments_lexer": "ipython3",
   "version": "3.8.5"
  }
 },
 "nbformat": 4,
 "nbformat_minor": 4
}
